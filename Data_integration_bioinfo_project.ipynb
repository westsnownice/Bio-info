{
 "cells": [
  {
   "cell_type": "code",
   "execution_count": 55,
   "metadata": {
    "collapsed": false
   },
   "outputs": [],
   "source": [
    "%matplotlib inline\n",
    "import os\n",
    "import glob\n",
    "import numpy as np\n",
    "from scipy import io\n",
    "import matplotlib.pyplot as plt\n",
    "import pandas as pd"
   ]
  },
  {
   "cell_type": "code",
   "execution_count": 56,
   "metadata": {
    "collapsed": false
   },
   "outputs": [],
   "source": [
    "df_gene2go = pd.read_table(\"./gene2go\")"
   ]
  },
  {
   "cell_type": "code",
   "execution_count": 57,
   "metadata": {
    "collapsed": false,
    "scrolled": false
   },
   "outputs": [
    {
     "name": "stdout",
     "output_type": "stream",
     "text": [
      "<class 'pandas.core.frame.DataFrame'>\n",
      "RangeIndex: 1865176 entries, 0 to 1865175\n",
      "Data columns (total 8 columns):\n",
      "#tax_id      int64\n",
      "GeneID       int64\n",
      "GO_ID        object\n",
      "Evidence     object\n",
      "Qualifier    object\n",
      "GO_term      object\n",
      "PubMed       object\n",
      "Category     object\n",
      "dtypes: int64(2), object(6)\n",
      "memory usage: 113.8+ MB\n"
     ]
    }
   ],
   "source": [
    "df_gene2go.info()"
   ]
  },
  {
   "cell_type": "code",
   "execution_count": 58,
   "metadata": {
    "collapsed": false
   },
   "outputs": [
    {
     "data": {
      "text/html": [
       "<div>\n",
       "<table border=\"1\" class=\"dataframe\">\n",
       "  <thead>\n",
       "    <tr style=\"text-align: right;\">\n",
       "      <th></th>\n",
       "      <th>#tax_id</th>\n",
       "      <th>GeneID</th>\n",
       "      <th>GO_ID</th>\n",
       "      <th>Evidence</th>\n",
       "      <th>Qualifier</th>\n",
       "      <th>GO_term</th>\n",
       "      <th>PubMed</th>\n",
       "      <th>Category</th>\n",
       "    </tr>\n",
       "  </thead>\n",
       "  <tbody>\n",
       "    <tr>\n",
       "      <th>0</th>\n",
       "      <td>3702</td>\n",
       "      <td>814629</td>\n",
       "      <td>GO:0005634</td>\n",
       "      <td>ISM</td>\n",
       "      <td>-</td>\n",
       "      <td>nucleus</td>\n",
       "      <td>-</td>\n",
       "      <td>Component</td>\n",
       "    </tr>\n",
       "    <tr>\n",
       "      <th>1</th>\n",
       "      <td>3702</td>\n",
       "      <td>814629</td>\n",
       "      <td>GO:0008150</td>\n",
       "      <td>ND</td>\n",
       "      <td>-</td>\n",
       "      <td>biological_process</td>\n",
       "      <td>-</td>\n",
       "      <td>Process</td>\n",
       "    </tr>\n",
       "    <tr>\n",
       "      <th>2</th>\n",
       "      <td>3702</td>\n",
       "      <td>814630</td>\n",
       "      <td>GO:0003677</td>\n",
       "      <td>IEA</td>\n",
       "      <td>-</td>\n",
       "      <td>DNA binding</td>\n",
       "      <td>-</td>\n",
       "      <td>Function</td>\n",
       "    </tr>\n",
       "    <tr>\n",
       "      <th>3</th>\n",
       "      <td>3702</td>\n",
       "      <td>814630</td>\n",
       "      <td>GO:0003700</td>\n",
       "      <td>ISS</td>\n",
       "      <td>-</td>\n",
       "      <td>transcription factor activity, sequence-specif...</td>\n",
       "      <td>11118137</td>\n",
       "      <td>Function</td>\n",
       "    </tr>\n",
       "    <tr>\n",
       "      <th>4</th>\n",
       "      <td>3702</td>\n",
       "      <td>814630</td>\n",
       "      <td>GO:0005634</td>\n",
       "      <td>IEA</td>\n",
       "      <td>-</td>\n",
       "      <td>nucleus</td>\n",
       "      <td>-</td>\n",
       "      <td>Component</td>\n",
       "    </tr>\n",
       "  </tbody>\n",
       "</table>\n",
       "</div>"
      ],
      "text/plain": [
       "   #tax_id  GeneID       GO_ID Evidence Qualifier  \\\n",
       "0     3702  814629  GO:0005634      ISM         -   \n",
       "1     3702  814629  GO:0008150       ND         -   \n",
       "2     3702  814630  GO:0003677      IEA         -   \n",
       "3     3702  814630  GO:0003700      ISS         -   \n",
       "4     3702  814630  GO:0005634      IEA         -   \n",
       "\n",
       "                                             GO_term    PubMed   Category  \n",
       "0                                            nucleus         -  Component  \n",
       "1                                 biological_process         -    Process  \n",
       "2                                        DNA binding         -   Function  \n",
       "3  transcription factor activity, sequence-specif...  11118137   Function  \n",
       "4                                            nucleus         -  Component  "
      ]
     },
     "execution_count": 58,
     "metadata": {},
     "output_type": "execute_result"
    }
   ],
   "source": [
    "df_gene2go.head()# the data structure"
   ]
  },
  {
   "cell_type": "code",
   "execution_count": 59,
   "metadata": {
    "collapsed": false
   },
   "outputs": [],
   "source": [
    "df_geneInfo = pd.read_table(\"./Homo_sapiens.gene_info\")"
   ]
  },
  {
   "cell_type": "code",
   "execution_count": 60,
   "metadata": {
    "collapsed": false
   },
   "outputs": [
    {
     "name": "stdout",
     "output_type": "stream",
     "text": [
      "<class 'pandas.core.frame.DataFrame'>\n",
      "RangeIndex: 59652 entries, 0 to 59651\n",
      "Data columns (total 15 columns):\n",
      "#tax_id                                  59652 non-null int64\n",
      "GeneID                                   59652 non-null int64\n",
      "Symbol                                   59652 non-null object\n",
      "LocusTag                                 59652 non-null object\n",
      "Synonyms                                 59652 non-null object\n",
      "dbXrefs                                  59652 non-null object\n",
      "chromosome                               59652 non-null object\n",
      "map_location                             59652 non-null object\n",
      "description                              59652 non-null object\n",
      "type_of_gene                             59652 non-null object\n",
      "Symbol_from_nomenclature_authority       59652 non-null object\n",
      "Full_name_from_nomenclature_authority    59652 non-null object\n",
      "Nomenclature_status                      59652 non-null object\n",
      "Other_designations                       59652 non-null object\n",
      "Modification_date                        59652 non-null int64\n",
      "dtypes: int64(3), object(12)\n",
      "memory usage: 6.8+ MB\n"
     ]
    }
   ],
   "source": [
    "df_geneInfo.info() # 15 columns, homme_sapiens dataset"
   ]
  },
  {
   "cell_type": "code",
   "execution_count": 61,
   "metadata": {
    "collapsed": false
   },
   "outputs": [
    {
     "data": {
      "text/html": [
       "<div>\n",
       "<table border=\"1\" class=\"dataframe\">\n",
       "  <thead>\n",
       "    <tr style=\"text-align: right;\">\n",
       "      <th></th>\n",
       "      <th>#tax_id</th>\n",
       "      <th>GeneID</th>\n",
       "      <th>Symbol</th>\n",
       "      <th>LocusTag</th>\n",
       "      <th>Synonyms</th>\n",
       "      <th>dbXrefs</th>\n",
       "      <th>chromosome</th>\n",
       "      <th>map_location</th>\n",
       "      <th>description</th>\n",
       "      <th>type_of_gene</th>\n",
       "      <th>Symbol_from_nomenclature_authority</th>\n",
       "      <th>Full_name_from_nomenclature_authority</th>\n",
       "      <th>Nomenclature_status</th>\n",
       "      <th>Other_designations</th>\n",
       "      <th>Modification_date</th>\n",
       "    </tr>\n",
       "  </thead>\n",
       "  <tbody>\n",
       "    <tr>\n",
       "      <th>0</th>\n",
       "      <td>9606</td>\n",
       "      <td>1</td>\n",
       "      <td>A1BG</td>\n",
       "      <td>-</td>\n",
       "      <td>A1B|ABG|GAB|HYST2477</td>\n",
       "      <td>MIM:138670|HGNC:HGNC:5|Ensembl:ENSG00000121410...</td>\n",
       "      <td>19</td>\n",
       "      <td>19q13.43</td>\n",
       "      <td>alpha-1-B glycoprotein</td>\n",
       "      <td>protein-coding</td>\n",
       "      <td>A1BG</td>\n",
       "      <td>alpha-1-B glycoprotein</td>\n",
       "      <td>O</td>\n",
       "      <td>alpha-1B-glycoprotein|HEL-S-163pA|epididymis s...</td>\n",
       "      <td>20170119</td>\n",
       "    </tr>\n",
       "    <tr>\n",
       "      <th>1</th>\n",
       "      <td>9606</td>\n",
       "      <td>2</td>\n",
       "      <td>A2M</td>\n",
       "      <td>-</td>\n",
       "      <td>A2MD|CPAMD5|FWP007|S863-7</td>\n",
       "      <td>MIM:103950|HGNC:HGNC:7|Ensembl:ENSG00000175899...</td>\n",
       "      <td>12</td>\n",
       "      <td>12p13.31</td>\n",
       "      <td>alpha-2-macroglobulin</td>\n",
       "      <td>protein-coding</td>\n",
       "      <td>A2M</td>\n",
       "      <td>alpha-2-macroglobulin</td>\n",
       "      <td>O</td>\n",
       "      <td>alpha-2-macroglobulin|C3 and PZP-like alpha-2-...</td>\n",
       "      <td>20161206</td>\n",
       "    </tr>\n",
       "    <tr>\n",
       "      <th>2</th>\n",
       "      <td>9606</td>\n",
       "      <td>3</td>\n",
       "      <td>A2MP1</td>\n",
       "      <td>-</td>\n",
       "      <td>A2MP</td>\n",
       "      <td>HGNC:HGNC:8|Ensembl:ENSG00000256069</td>\n",
       "      <td>12</td>\n",
       "      <td>12p13.31</td>\n",
       "      <td>alpha-2-macroglobulin pseudogene 1</td>\n",
       "      <td>pseudo</td>\n",
       "      <td>A2MP1</td>\n",
       "      <td>alpha-2-macroglobulin pseudogene 1</td>\n",
       "      <td>O</td>\n",
       "      <td>pregnancy-zone protein pseudogene</td>\n",
       "      <td>20160808</td>\n",
       "    </tr>\n",
       "    <tr>\n",
       "      <th>3</th>\n",
       "      <td>9606</td>\n",
       "      <td>9</td>\n",
       "      <td>NAT1</td>\n",
       "      <td>-</td>\n",
       "      <td>AAC1|MNAT|NAT-1|NATI</td>\n",
       "      <td>MIM:108345|HGNC:HGNC:7645|Ensembl:ENSG00000171...</td>\n",
       "      <td>8</td>\n",
       "      <td>8p22</td>\n",
       "      <td>N-acetyltransferase 1</td>\n",
       "      <td>protein-coding</td>\n",
       "      <td>NAT1</td>\n",
       "      <td>N-acetyltransferase 1</td>\n",
       "      <td>O</td>\n",
       "      <td>arylamine N-acetyltransferase 1|N-acetyltransf...</td>\n",
       "      <td>20170101</td>\n",
       "    </tr>\n",
       "    <tr>\n",
       "      <th>4</th>\n",
       "      <td>9606</td>\n",
       "      <td>10</td>\n",
       "      <td>NAT2</td>\n",
       "      <td>-</td>\n",
       "      <td>AAC2|NAT-2|PNAT</td>\n",
       "      <td>MIM:612182|HGNC:HGNC:7646|Ensembl:ENSG00000156...</td>\n",
       "      <td>8</td>\n",
       "      <td>8p22</td>\n",
       "      <td>N-acetyltransferase 2</td>\n",
       "      <td>protein-coding</td>\n",
       "      <td>NAT2</td>\n",
       "      <td>N-acetyltransferase 2</td>\n",
       "      <td>O</td>\n",
       "      <td>arylamine N-acetyltransferase 2|N-acetyltransf...</td>\n",
       "      <td>20161221</td>\n",
       "    </tr>\n",
       "  </tbody>\n",
       "</table>\n",
       "</div>"
      ],
      "text/plain": [
       "   #tax_id  GeneID Symbol LocusTag                   Synonyms  \\\n",
       "0     9606       1   A1BG        -       A1B|ABG|GAB|HYST2477   \n",
       "1     9606       2    A2M        -  A2MD|CPAMD5|FWP007|S863-7   \n",
       "2     9606       3  A2MP1        -                       A2MP   \n",
       "3     9606       9   NAT1        -       AAC1|MNAT|NAT-1|NATI   \n",
       "4     9606      10   NAT2        -            AAC2|NAT-2|PNAT   \n",
       "\n",
       "                                             dbXrefs chromosome map_location  \\\n",
       "0  MIM:138670|HGNC:HGNC:5|Ensembl:ENSG00000121410...         19     19q13.43   \n",
       "1  MIM:103950|HGNC:HGNC:7|Ensembl:ENSG00000175899...         12     12p13.31   \n",
       "2                HGNC:HGNC:8|Ensembl:ENSG00000256069         12     12p13.31   \n",
       "3  MIM:108345|HGNC:HGNC:7645|Ensembl:ENSG00000171...          8         8p22   \n",
       "4  MIM:612182|HGNC:HGNC:7646|Ensembl:ENSG00000156...          8         8p22   \n",
       "\n",
       "                          description    type_of_gene  \\\n",
       "0              alpha-1-B glycoprotein  protein-coding   \n",
       "1               alpha-2-macroglobulin  protein-coding   \n",
       "2  alpha-2-macroglobulin pseudogene 1          pseudo   \n",
       "3               N-acetyltransferase 1  protein-coding   \n",
       "4               N-acetyltransferase 2  protein-coding   \n",
       "\n",
       "  Symbol_from_nomenclature_authority Full_name_from_nomenclature_authority  \\\n",
       "0                               A1BG                alpha-1-B glycoprotein   \n",
       "1                                A2M                 alpha-2-macroglobulin   \n",
       "2                              A2MP1    alpha-2-macroglobulin pseudogene 1   \n",
       "3                               NAT1                 N-acetyltransferase 1   \n",
       "4                               NAT2                 N-acetyltransferase 2   \n",
       "\n",
       "  Nomenclature_status                                 Other_designations  \\\n",
       "0                   O  alpha-1B-glycoprotein|HEL-S-163pA|epididymis s...   \n",
       "1                   O  alpha-2-macroglobulin|C3 and PZP-like alpha-2-...   \n",
       "2                   O                  pregnancy-zone protein pseudogene   \n",
       "3                   O  arylamine N-acetyltransferase 1|N-acetyltransf...   \n",
       "4                   O  arylamine N-acetyltransferase 2|N-acetyltransf...   \n",
       "\n",
       "   Modification_date  \n",
       "0           20170119  \n",
       "1           20161206  \n",
       "2           20160808  \n",
       "3           20170101  \n",
       "4           20161221  "
      ]
     },
     "execution_count": 61,
     "metadata": {},
     "output_type": "execute_result"
    }
   ],
   "source": [
    "df_geneInfo.head() # the data structure of Home_sapiens dataset"
   ]
  },
  {
   "cell_type": "code",
   "execution_count": 62,
   "metadata": {
    "collapsed": false
   },
   "outputs": [
    {
     "data": {
      "text/plain": [
       "(1865176, 8)"
      ]
     },
     "execution_count": 62,
     "metadata": {},
     "output_type": "execute_result"
    }
   ],
   "source": [
    "df_gene2go.shape # the number of rows and columns"
   ]
  },
  {
   "cell_type": "code",
   "execution_count": 63,
   "metadata": {
    "collapsed": false
   },
   "outputs": [
    {
     "data": {
      "text/plain": [
       "(59652, 15)"
      ]
     },
     "execution_count": 63,
     "metadata": {},
     "output_type": "execute_result"
    }
   ],
   "source": [
    "df_geneInfo.shape "
   ]
  },
  {
   "cell_type": "code",
   "execution_count": 64,
   "metadata": {
    "collapsed": false
   },
   "outputs": [
    {
     "data": {
      "text/plain": [
       "212542"
      ]
     },
     "execution_count": 64,
     "metadata": {},
     "output_type": "execute_result"
    }
   ],
   "source": [
    "len(df_gene2go['GeneID'].unique())"
   ]
  },
  {
   "cell_type": "code",
   "execution_count": 65,
   "metadata": {
    "collapsed": false
   },
   "outputs": [
    {
     "data": {
      "text/plain": [
       "59652"
      ]
     },
     "execution_count": 65,
     "metadata": {},
     "output_type": "execute_result"
    }
   ],
   "source": [
    "len(df_geneInfo['GeneID'].unique())"
   ]
  },
  {
   "cell_type": "code",
   "execution_count": 66,
   "metadata": {
    "collapsed": false
   },
   "outputs": [
    {
     "data": {
      "text/plain": [
       "array(['Component', 'Function', 'Process'], dtype=object)"
      ]
     },
     "execution_count": 66,
     "metadata": {},
     "output_type": "execute_result"
    }
   ],
   "source": [
    "np.unique(df_gene2go['Category'])"
   ]
  },
  {
   "cell_type": "code",
   "execution_count": 67,
   "metadata": {
    "collapsed": false
   },
   "outputs": [
    {
     "data": {
      "text/plain": [
       "Process      826257\n",
       "Component    542832\n",
       "Function     496087\n",
       "dtype: int64"
      ]
     },
     "execution_count": 67,
     "metadata": {},
     "output_type": "execute_result"
    }
   ],
   "source": [
    "pd.Series([i for i in df_gene2go['Category']]).value_counts()"
   ]
  },
  {
   "cell_type": "code",
   "execution_count": 68,
   "metadata": {
    "collapsed": false
   },
   "outputs": [
    {
     "name": "stdout",
     "output_type": "stream",
     "text": [
      "number of different go terms: 25600\n"
     ]
    }
   ],
   "source": [
    "num_go_term = len(df_gene2go['GO_term'].unique())\n",
    "print 'number of different go terms: %s' % num_go_term"
   ]
  },
  {
   "cell_type": "code",
   "execution_count": 69,
   "metadata": {
    "collapsed": true
   },
   "outputs": [],
   "source": [
    "go_and_go_term = df_gene2go[['GO_ID', 'GO_term']]#*****************************"
   ]
  },
  {
   "cell_type": "code",
   "execution_count": 70,
   "metadata": {
    "collapsed": false
   },
   "outputs": [
    {
     "data": {
      "text/html": [
       "<div>\n",
       "<table border=\"1\" class=\"dataframe\">\n",
       "  <thead>\n",
       "    <tr style=\"text-align: right;\">\n",
       "      <th></th>\n",
       "      <th>GO_ID</th>\n",
       "      <th>GO_term</th>\n",
       "    </tr>\n",
       "  </thead>\n",
       "  <tbody>\n",
       "    <tr>\n",
       "      <th>0</th>\n",
       "      <td>GO:0005634</td>\n",
       "      <td>nucleus</td>\n",
       "    </tr>\n",
       "    <tr>\n",
       "      <th>1</th>\n",
       "      <td>GO:0008150</td>\n",
       "      <td>biological_process</td>\n",
       "    </tr>\n",
       "    <tr>\n",
       "      <th>2</th>\n",
       "      <td>GO:0003677</td>\n",
       "      <td>DNA binding</td>\n",
       "    </tr>\n",
       "    <tr>\n",
       "      <th>3</th>\n",
       "      <td>GO:0003700</td>\n",
       "      <td>transcription factor activity, sequence-specif...</td>\n",
       "    </tr>\n",
       "    <tr>\n",
       "      <th>4</th>\n",
       "      <td>GO:0005634</td>\n",
       "      <td>nucleus</td>\n",
       "    </tr>\n",
       "  </tbody>\n",
       "</table>\n",
       "</div>"
      ],
      "text/plain": [
       "        GO_ID                                            GO_term\n",
       "0  GO:0005634                                            nucleus\n",
       "1  GO:0008150                                 biological_process\n",
       "2  GO:0003677                                        DNA binding\n",
       "3  GO:0003700  transcription factor activity, sequence-specif...\n",
       "4  GO:0005634                                            nucleus"
      ]
     },
     "execution_count": 70,
     "metadata": {},
     "output_type": "execute_result"
    }
   ],
   "source": [
    "go_and_go_term.head()"
   ]
  },
  {
   "cell_type": "code",
   "execution_count": 71,
   "metadata": {
    "collapsed": true
   },
   "outputs": [],
   "source": [
    "go_term_count = pd.Series(i for i in go_and_go_term['GO_term']).value_counts()"
   ]
  },
  {
   "cell_type": "code",
   "execution_count": 72,
   "metadata": {
    "collapsed": false
   },
   "outputs": [
    {
     "name": "stdout",
     "output_type": "stream",
     "text": [
      "nucleus                                                                                   50191\n",
      "molecular_function                                                                        44029\n",
      "integral component of membrane                                                            41560\n",
      "biological_process                                                                        39865\n",
      "cytoplasm                                                                                 38298\n",
      "membrane                                                                                  33156\n",
      "cellular_component                                                                        32293\n",
      "plasma membrane                                                                           24224\n",
      "protein binding                                                                           20798\n",
      "cytosol                                                                                   19344\n",
      "mitochondrion                                                                             17057\n",
      "metal ion binding                                                                         14440\n",
      "ATP binding                                                                               13683\n",
      "regulation of transcription, DNA-templated                                                12461\n",
      "DNA binding                                                                               11814\n",
      "extracellular exosome                                                                     11121\n",
      "extracellular region                                                                      10679\n",
      "zinc ion binding                                                                           9288\n",
      "nucleoplasm                                                                                9248\n",
      "transcription, DNA-templated                                                               9226\n",
      "G-protein coupled receptor signaling pathway                                               8628\n",
      "extracellular space                                                                        8297\n",
      "transcription factor activity, sequence-specific DNA binding                               8207\n",
      "nucleotide binding                                                                         7796\n",
      "integral component of plasma membrane                                                      7572\n",
      "endoplasmic reticulum                                                                      7331\n",
      "transport                                                                                  6779\n",
      "oxidation-reduction process                                                                6552\n",
      "Golgi apparatus                                                                            6517\n",
      "positive regulation of transcription from RNA polymerase II promoter                       5989\n",
      "                                                                                          ...  \n",
      "flavonoid transport from endoplasmic reticulum to plant-type vacuole                          1\n",
      "UDP-D-galactose metabolic process                                                             1\n",
      "regulation of G0 to G1 transition                                                             1\n",
      "myosin III complex                                                                            1\n",
      "cholecystokinin receptor binding                                                              1\n",
      "histone acetyltransferase activity (H3-K4 specific)                                           1\n",
      "purinergic receptor signaling pathway                                                         1\n",
      "5' transitive RNA interference                                                                1\n",
      "methyl jasmonate methylesterase activity                                                      1\n",
      "5'-3' exodeoxyribonuclease activity involved in UV-damage excision repair                     1\n",
      "S-(hydroxymethyl)glutathione synthase activity                                                1\n",
      "2,4'-dihydroxyacetophenone dioxygenase activity                                               1\n",
      "regulation of ecdysteroid metabolic process                                                   1\n",
      "trehalose metabolism in response to heat stress                                               1\n",
      "regulation of border follicle cell delamination                                               1\n",
      "regulation of tRNA export from nucleus                                                        1\n",
      "snoRNA release from pre-rRNA                                                                  1\n",
      "DDT 2,3-dioxygenase activity                                                                  1\n",
      "dihydrocamalexic acid decarboxylase activity                                                  1\n",
      "protein binding involved in negative regulation of telomere maintenance via telomerase        1\n",
      "malonate(1-) transmembrane transporter activity                                               1\n",
      "positive regulation of peptidoglycan recognition protein signaling pathway                    1\n",
      "anterior lateral line neuromast hair cell differentiation                                     1\n",
      "reverse transcription involved in RNA-mediated transposition                                  1\n",
      "meiotic sister chromatid separation                                                           1\n",
      "galactose homeostasis                                                                         1\n",
      "arginine homeostasis                                                                          1\n",
      "host cell extracellular matrix binding                                                        1\n",
      "DNA helicase complex                                                                          1\n",
      "regulation of lymphangiogenesis                                                               1\n",
      "dtype: int64\n"
     ]
    }
   ],
   "source": [
    "print go_term_count # the frequency of occurance of each go term"
   ]
  },
  {
   "cell_type": "code",
   "execution_count": 73,
   "metadata": {
    "collapsed": false
   },
   "outputs": [],
   "source": [
    "top_ten_of_go_term = go_term_count[:10]  # take the top ten"
   ]
  },
  {
   "cell_type": "code",
   "execution_count": 74,
   "metadata": {
    "collapsed": false
   },
   "outputs": [
    {
     "name": "stdout",
     "output_type": "stream",
     "text": [
      "Number of total occurances of top 10 go terms: 343758\n"
     ]
    }
   ],
   "source": [
    "print('Number of total occurances of top 10 go terms: %s' % top_ten_of_go_term.sum())"
   ]
  },
  {
   "cell_type": "code",
   "execution_count": 75,
   "metadata": {
    "collapsed": false
   },
   "outputs": [
    {
     "data": {
      "text/plain": [
       "nucleus                           50191\n",
       "molecular_function                44029\n",
       "integral component of membrane    41560\n",
       "biological_process                39865\n",
       "cytoplasm                         38298\n",
       "membrane                          33156\n",
       "cellular_component                32293\n",
       "plasma membrane                   24224\n",
       "protein binding                   20798\n",
       "cytosol                           19344\n",
       "dtype: int64"
      ]
     },
     "execution_count": 75,
     "metadata": {},
     "output_type": "execute_result"
    }
   ],
   "source": [
    "top_ten_of_go_term"
   ]
  },
  {
   "cell_type": "code",
   "execution_count": 76,
   "metadata": {
    "collapsed": false
   },
   "outputs": [
    {
     "data": {
      "image/png": "[encoded data removed]",
      "text/plain": [
       "<matplotlib.figure.Figure at 0x7f2f11e09ed0>"
      ]
     },
     "metadata": {},
     "output_type": "display_data"
    }
   ],
   "source": [
    "top_ten_of_go_term.plot(kind='pie', autopct='%.2f', figsize=(5, 5), title='Distribution of top 10 go terms');#***********************"
   ]
  },
  {
   "cell_type": "code",
   "execution_count": 53,
   "metadata": {
    "collapsed": false
   },
   "outputs": [],
   "source": [
    "from itertools import groupby\n",
    "key_group = []\n",
    "freq_group = []\n",
    "for key, group in groupby(go_term_count):\n",
    "    key_group.append(key)\n",
    "    freq_group.append(len(list(group)))\n",
    "key_group.sort()\n",
    "freq_group.sort(reverse=True)"
   ]
  },
  {
   "cell_type": "code",
   "execution_count": 25,
   "metadata": {
    "collapsed": false
   },
   "outputs": [],
   "source": [
    "df_keys_freq = pd.DataFrame(freq_group, columns=['Count'], index=key_group)"
   ]
  },
  {
   "cell_type": "code",
   "execution_count": 26,
   "metadata": {
    "collapsed": true
   },
   "outputs": [],
   "source": [
    "df_keys_freq = df_keys_freq[:100]"
   ]
  },
  {
   "cell_type": "code",
   "execution_count": 27,
   "metadata": {
    "collapsed": false
   },
   "outputs": [
    {
     "data": {
      "text/plain": [
       "<matplotlib.text.Text at 0x7f2f23b75050>"
      ]
     },
     "execution_count": 27,
     "metadata": {},
     "output_type": "execute_result"
    },
    {
     "data": {
      "image/png": "[encoded data removed]",
      "text/plain": [
       "<matplotlib.figure.Figure at 0x7f2f274bac90>"
      ]
     },
     "metadata": {},
     "output_type": "display_data"
    }
   ],
   "source": [
    "ax = df_keys_freq.plot(title='statistics - count of frequency of go terms')\n",
    "ax.set_xlabel('Frequency of Go terms')\n",
    "ax.set_ylabel('Count')"
   ]
  },
  {
   "cell_type": "markdown",
   "metadata": {},
   "source": [
    "* As we can see above, the x-axis is the frequncy of temrs (go_term_count), the y-axis is the total count on these frequencies, which means that most of term show only once or very very few (<100)\n",
    "* For instance, the frequency 1 has more than 2500 counts, which means that there are more than 2500 go terms that show only once"
   ]
  },
  {
   "cell_type": "code",
   "execution_count": null,
   "metadata": {
    "collapsed": true
   },
   "outputs": [],
   "source": []
  }
 ],
 "metadata": {
  "anaconda-cloud": {},
  "kernelspec": {
   "display_name": "Python 2",
   "language": "python",
   "name": "python2"
  },
  "language_info": {
   "codemirror_mode": {
    "name": "ipython",
    "version": 2
   },
   "file_extension": ".py",
   "mimetype": "text/x-python",
   "name": "python",
   "nbconvert_exporter": "python",
   "pygments_lexer": "ipython2",
   "version": "2.7.13"
  }
 },
 "nbformat": 4,
 "nbformat_minor": 0
}
